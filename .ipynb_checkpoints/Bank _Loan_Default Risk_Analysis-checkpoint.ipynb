{
 "cells": [
  {
   "cell_type": "markdown",
   "id": "a7f2d479-4c0d-4fab-9cac-8ca23ff8de62",
   "metadata": {},
   "source": [
    "## import the python libraries"
   ]
  },
  {
   "cell_type": "code",
   "execution_count": null,
   "id": "fb32d135-91f3-41d8-9601-b5003eabe122",
   "metadata": {},
   "outputs": [],
   "source": [
    "import pandas as pd\n",
    "import numpy as np\n",
    "import matplotlib.pyplot as plt \n",
    "import matplotlib.style as style\n",
    "import seaborn as sns\n",
    "import itertools \n",
    "%matplotlib inline\n",
    "\n",
    "#setting up plot styles\n",
    "style.use(\"seaborn-v0_8-poster\")\n",
    "style.use(\"fivethirtyeight\")"
   ]
  },
  {
   "cell_type": "markdown",
   "id": "ea7975d8-66b0-45d7-baca-86f40041c88c",
   "metadata": {},
   "source": [
    "## Warnings"
   ]
  },
  {
   "cell_type": "code",
   "execution_count": null,
   "id": "d0f8d4e2-20a1-4365-9722-db0a6198991b",
   "metadata": {},
   "outputs": [],
   "source": [
    "import warnings\n",
    "warnings.filterwarnings(\"ignore\")"
   ]
  },
  {
   "cell_type": "markdown",
   "id": "bf475d70-ef91-43a9-a87a-b71a912b53e4",
   "metadata": {},
   "source": [
    "## Adjust the jupyternote"
   ]
  },
  {
   "cell_type": "code",
   "execution_count": null,
   "id": "7af1d054-bf4c-4816-8b3c-2bd7e95b3bd0",
   "metadata": {},
   "outputs": [],
   "source": [
    "pd.set_option(\"display.max_rows\",500)\n",
    "pd.set_option(\"display.max_columns\",500)\n",
    "pd.set_option(\"display.width\",1000)\n",
    "pd.set_option(\"display.expand_frame_repr\",False)"
   ]
  },
  {
   "cell_type": "markdown",
   "id": "17e19cb1-1135-4270-9b41-05148d33480f",
   "metadata": {},
   "source": [
    "## Read and understand the data "
   ]
  },
  {
   "cell_type": "markdown",
   "id": "303c803a-e7bf-42cd-8dfa-32ec75f49f7a",
   "metadata": {},
   "source": [
    "## import the data files"
   ]
  },
  {
   "cell_type": "code",
   "execution_count": null,
   "id": "67e49092-7de1-4c67-b478-9b25dd471da3",
   "metadata": {},
   "outputs": [],
   "source": [
    "ApplicationDF = pd.read_csv(r\"C:\\Users\\Fairdebt\\Desktop\\Datasets_for_naresh_it_projects\\Bank_risk\\ApplicationDF\\application_data.csv\")\n",
    "PreviousDF = pd.read_csv(r\"C:\\Users\\Fairdebt\\Desktop\\Datasets_for_naresh_it_projects\\Bank_risk\\\\previous_application\\previous_application.csv\")"
   ]
  },
  {
   "cell_type": "code",
   "execution_count": null,
   "id": "06a9c459-ce7f-487c-90f5-9314adedd24f",
   "metadata": {},
   "outputs": [],
   "source": [
    "ApplicationDF.head()"
   ]
  },
  {
   "cell_type": "code",
   "execution_count": null,
   "id": "c3530dfb-b63e-4929-9efb-45d8f076141b",
   "metadata": {},
   "outputs": [],
   "source": [
    "PreviousDF.head()"
   ]
  },
  {
   "cell_type": "markdown",
   "id": "f767dd84-cc86-4c34-8958-c71409e4f958",
   "metadata": {},
   "source": [
    "## Inpect the data frames"
   ]
  },
  {
   "cell_type": "code",
   "execution_count": null,
   "id": "09c1e72c-be6c-41bc-979a-2cb1e6aa7678",
   "metadata": {},
   "outputs": [],
   "source": [
    "#database diemensions \n",
    "\n",
    "print(\"Database diemension - ApplicationDF :\",ApplicationDF.shape)\n",
    "print(\"Database diemension - PreviousDF :\",PreviousDF.shape)\n",
    "\n",
    "#dataset size\n",
    "print(\"Database size - ApplicationDF :\",ApplicationDF.size)\n",
    "print(\"Database size - PreviousDF :\",PreviousDF.size)"
   ]
  },
  {
   "cell_type": "code",
   "execution_count": null,
   "id": "2a676f4b-5e12-495f-89f9-023d047c3d92",
   "metadata": {},
   "outputs": [],
   "source": []
  }
 ],
 "metadata": {
  "kernelspec": {
   "display_name": "Python 3 (ipykernel)",
   "language": "python",
   "name": "python3"
  },
  "language_info": {
   "codemirror_mode": {
    "name": "ipython",
    "version": 3
   },
   "file_extension": ".py",
   "mimetype": "text/x-python",
   "name": "python",
   "nbconvert_exporter": "python",
   "pygments_lexer": "ipython3",
   "version": "3.12.7"
  }
 },
 "nbformat": 4,
 "nbformat_minor": 5
}
