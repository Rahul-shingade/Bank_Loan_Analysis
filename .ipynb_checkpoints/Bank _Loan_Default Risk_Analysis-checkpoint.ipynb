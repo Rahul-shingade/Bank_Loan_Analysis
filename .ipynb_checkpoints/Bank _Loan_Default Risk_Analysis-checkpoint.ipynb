{
 "cells": [
  {
   "cell_type": "markdown",
   "id": "a7f2d479-4c0d-4fab-9cac-8ca23ff8de62",
   "metadata": {},
   "source": [
    "# import the python libraries"
   ]
  },
  {
   "cell_type": "code",
   "execution_count": null,
   "id": "fb32d135-91f3-41d8-9601-b5003eabe122",
   "metadata": {},
   "outputs": [],
   "source": [
    "import pandas as pd\n",
    "import numpy as np\n",
    "import matplotlib.pyplot as plt \n",
    "import matplotlib.style as style\n",
    "import seaborn as sns\n",
    "import itertools \n",
    "%matplotlib inline\n",
    "\n",
    "#setting up plot styles\n",
    "style.use(\"seaborn-v0_8-poster\")\n",
    "style.use(\"fivethirtyeight\")"
   ]
  },
  {
   "cell_type": "markdown",
   "id": "ea7975d8-66b0-45d7-baca-86f40041c88c",
   "metadata": {},
   "source": [
    "# Warnings"
   ]
  },
  {
   "cell_type": "code",
   "execution_count": null,
   "id": "d0f8d4e2-20a1-4365-9722-db0a6198991b",
   "metadata": {},
   "outputs": [],
   "source": [
    "import warnings\n",
    "warnings.filterwarnings(\"ignore\")"
   ]
  },
  {
   "cell_type": "markdown",
   "id": "bf475d70-ef91-43a9-a87a-b71a912b53e4",
   "metadata": {},
   "source": [
    "# Adjust the jupyternote"
   ]
  },
  {
   "cell_type": "code",
   "execution_count": null,
   "id": "7af1d054-bf4c-4816-8b3c-2bd7e95b3bd0",
   "metadata": {},
   "outputs": [],
   "source": [
    "pd.set_option(\"display.max_rows\",500)\n",
    "pd.set_option(\"display.max_columns\",500)\n",
    "pd.set_option(\"display.width\",1000)\n",
    "pd.set_option(\"display.expand_frame_repr\",False)"
   ]
  },
  {
   "cell_type": "markdown",
   "id": "17e19cb1-1135-4270-9b41-05148d33480f",
   "metadata": {},
   "source": [
    "# Read and understand the data "
   ]
  },
  {
   "cell_type": "markdown",
   "id": "303c803a-e7bf-42cd-8dfa-32ec75f49f7a",
   "metadata": {},
   "source": [
    "## import the data files"
   ]
  },
  {
   "cell_type": "code",
   "execution_count": null,
   "id": "67e49092-7de1-4c67-b478-9b25dd471da3",
   "metadata": {},
   "outputs": [],
   "source": [
    "ApplicationDF = pd.read_csv(r\"C:\\Users\\Fairdebt\\Desktop\\Datasets_for_naresh_it_projects\\Bank_risk\\ApplicationDF\\application_data.csv\")\n",
    "PreviousDF = pd.read_csv(r\"C:\\Users\\Fairdebt\\Desktop\\Datasets_for_naresh_it_projects\\Bank_risk\\\\previous_application\\previous_application.csv\")"
   ]
  },
  {
   "cell_type": "code",
   "execution_count": null,
   "id": "06a9c459-ce7f-487c-90f5-9314adedd24f",
   "metadata": {},
   "outputs": [],
   "source": [
    "ApplicationDF.head()"
   ]
  },
  {
   "cell_type": "code",
   "execution_count": null,
   "id": "c3530dfb-b63e-4929-9efb-45d8f076141b",
   "metadata": {
    "scrolled": true
   },
   "outputs": [],
   "source": [
    "PreviousDF.head()"
   ]
  },
  {
   "cell_type": "markdown",
   "id": "f767dd84-cc86-4c34-8958-c71409e4f958",
   "metadata": {},
   "source": [
    "# Inpect the data frames"
   ]
  },
  {
   "cell_type": "code",
   "execution_count": null,
   "id": "09c1e72c-be6c-41bc-979a-2cb1e6aa7678",
   "metadata": {},
   "outputs": [],
   "source": [
    "#database diemensions \n",
    "\n",
    "print(\"Database diemension - ApplicationDF :\",ApplicationDF.shape)\n",
    "print(\"Database diemension - PreviousDF :\",PreviousDF.shape)\n",
    "\n",
    "#dataset size\n",
    "print(\"Database size - ApplicationDF :\",ApplicationDF.size)\n",
    "print(\"Database size - PreviousDF :\",PreviousDF.size)"
   ]
  },
  {
   "cell_type": "code",
   "execution_count": null,
   "id": "2a676f4b-5e12-495f-89f9-023d047c3d92",
   "metadata": {},
   "outputs": [],
   "source": [
    "# data column type \n",
    "ApplicationDF.info(verbose= True)"
   ]
  },
  {
   "cell_type": "code",
   "execution_count": null,
   "id": "fbd9bc01-367e-4102-a4c1-24c449bd4f3e",
   "metadata": {},
   "outputs": [],
   "source": [
    "PreviousDF.info(verbose = True)"
   ]
  },
  {
   "cell_type": "code",
   "execution_count": null,
   "id": "6bc6a435-6f75-4af9-ae50-aefeacf80e08",
   "metadata": {},
   "outputs": [],
   "source": [
    "#checking the numrice variable of the dataframe \n",
    "ApplicationDF.describe()"
   ]
  },
  {
   "cell_type": "code",
   "execution_count": null,
   "id": "3d80d53d-9454-408b-bc53-65b9f9c8639c",
   "metadata": {},
   "outputs": [],
   "source": [
    "PreviousDF.describe()"
   ]
  },
  {
   "cell_type": "markdown",
   "id": "760acf4f-35f7-4946-b630-a8ae4145eafc",
   "metadata": {},
   "source": [
    "# Data cleaning and manipulations "
   ]
  },
  {
   "cell_type": "markdown",
   "id": "a72f0aca-e66a-4659-8e85-df2720ed0c09",
   "metadata": {},
   "source": [
    "## Null value calculations "
   ]
  },
  {
   "cell_type": "markdown",
   "id": "1ea23c00-bf4e-4a8e-b34f-2551800193dd",
   "metadata": {},
   "source": [
    "ApplicationDF Missing values "
   ]
  },
  {
   "cell_type": "code",
   "execution_count": null,
   "id": "a5991b55-2a78-496c-9f29-644ef3cbdda3",
   "metadata": {},
   "outputs": [],
   "source": [
    "import missingno as mn\n",
    "mn.matrix(ApplicationDF)\n",
    "plt.show()"
   ]
  },
  {
   "cell_type": "markdown",
   "id": "bba8c18d-0f9f-4941-b81b-caf67628fe39",
   "metadata": {},
   "source": [
    "### Insight :\n",
    "based on above matrix it is evidednt that dataset has so many missing value lets check for the each column what is the % of values "
   ]
  },
  {
   "cell_type": "code",
   "execution_count": null,
   "id": "70a24ce3-1a41-4ce7-b767-0c0760702066",
   "metadata": {},
   "outputs": [],
   "source": [
    "# % null value in each column \n",
    "round (ApplicationDF.isnull().sum() / ApplicationDF.shape[0] * 100.00,2)"
   ]
  },
  {
   "cell_type": "markdown",
   "id": "853e2a96-7a71-41d0-a9a0-6fc29615288a",
   "metadata": {},
   "source": [
    "### Insights: \n",
    "There are so many columns in AppplicationDF dataframe where missing values is more then 40% Lets plot the \n",
    "columns vs missing value % with 40% being the cut-off marks "
   ]
  },
  {
   "cell_type": "code",
   "execution_count": null,
   "id": "0f4fa6e6-d32e-425b-90ff-f28b1f4f8add",
   "metadata": {},
   "outputs": [],
   "source": [
    "null_ApplicationDF = pd.DataFrame ((ApplicationDF.isnull().sum())*100 / ApplicationDF.shape[0]).reset_index()\n",
    "null_ApplicationDF.columns = ['Column Name', 'Null Values Percentage']\n",
    "fig = plt.figure(figsize =(18,6))\n",
    "ax = sns .pointplot(x= \"Column Name\", y = \"Null Values Percentage\", data=null_ApplicationDF, color='blue')\n",
    "plt.xticks(rotation =90, fontsize = 7)\n",
    "ax.axhline(40, ls='--', color = 'red')\n",
    "plt.title(\"Percentage of Missing values in application data\")\n",
    "plt.ylabel(\"Null value Percentage\")\n",
    "plt.xlabel(\"COLUMNS\")\n",
    "plt.show()"
   ]
  },
  {
   "cell_type": "markdown",
   "id": "b7223a8d-2578-41a5-bf4a-1f5c9235027e",
   "metadata": {},
   "source": [
    "### Insights :\n",
    "From the plot we can see the columns in which the percentage of null values more tham 40% are marked above the red line \n",
    "and the columns which have less than 40%  null values below the red line \n",
    "##### Let's check the columns which has more than 40% missing values  "
   ]
  },
  {
   "cell_type": "code",
   "execution_count": null,
   "id": "84a2ab35-f8f5-410d-ac5f-85deca8c3fa1",
   "metadata": {},
   "outputs": [],
   "source": [
    "# more than or equal to 40% empty rows or columns\n",
    "null_col_40_application = null_ApplicationDF[null_ApplicationDF[\"Null Values Percentage\"]>=40]\n",
    "null_col_40_application"
   ]
  },
  {
   "cell_type": "code",
   "execution_count": null,
   "id": "2d3fca4b-b471-446e-93d2-f1169594eb2e",
   "metadata": {},
   "outputs": [],
   "source": [
    "# How many columns are having the more than or equal to 40% null value? \n",
    "len(null_col_40_application)"
   ]
  },
  {
   "cell_type": "markdown",
   "id": "c213c672-de3c-4386-85fc-7cb97c1e6c3d",
   "metadata": {},
   "source": [
    "#### Insights :\n",
    "Total 49 columns having the more than 40% of missing values. Seems like most of the columns with high missing values are related to \n",
    "different area size on apartment owned/rented by the loan applicant"
   ]
  },
  {
   "cell_type": "markdown",
   "id": "c6de9045-11d7-4e67-a34c-cc8cffb4ab3f",
   "metadata": {},
   "source": [
    "### PreviousDF Missing values "
   ]
  },
  {
   "cell_type": "code",
   "execution_count": null,
   "id": "b07bc266-1063-4764-a186-dd36e70dc37f",
   "metadata": {},
   "outputs": [],
   "source": [
    "mn.matrix(PreviousDF)\n",
    "plt.show()"
   ]
  },
  {
   "cell_type": "code",
   "execution_count": null,
   "id": "5a24da43-3949-4899-b491-5dbbe16ce179",
   "metadata": {
    "scrolled": true
   },
   "outputs": [],
   "source": [
    "#checking the null values % of each columns PreviousDF dataframe \n",
    "round(PreviousDF.isnull().sum() / PreviousDF.shape[0] * 100.00, 2)"
   ]
  },
  {
   "cell_type": "markdown",
   "id": "9cbc0574-a322-484e-ae02-3cc606484f09",
   "metadata": {},
   "source": [
    "#### Insights\n"
   ]
  }
 ],
 "metadata": {
  "kernelspec": {
   "display_name": "Python 3 (ipykernel)",
   "language": "python",
   "name": "python3"
  },
  "language_info": {
   "codemirror_mode": {
    "name": "ipython",
    "version": 3
   },
   "file_extension": ".py",
   "mimetype": "text/x-python",
   "name": "python",
   "nbconvert_exporter": "python",
   "pygments_lexer": "ipython3",
   "version": "3.12.7"
  }
 },
 "nbformat": 4,
 "nbformat_minor": 5
}
